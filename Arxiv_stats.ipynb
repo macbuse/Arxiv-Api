{
 "cells": [
  {
   "cell_type": "code",
   "execution_count": 1,
   "metadata": {},
   "outputs": [],
   "source": [
    "import re\n"
   ]
  },
  {
   "cell_type": "code",
   "execution_count": 4,
   "metadata": {},
   "outputs": [],
   "source": [
    "with open('listeJournals.txt', 'r') as fp:\n",
    "    data = fp.read()"
   ]
  },
  {
   "cell_type": "code",
   "execution_count": 6,
   "metadata": {},
   "outputs": [
    {
     "name": "stdout",
     "output_type": "stream",
     "text": [
      "['ACM Trans. Math. Software', 'acmms', 1984]\n",
      "['ACM Trans. Math. Software', 'acmms', 1985]\n",
      "['ACM Tran\n"
     ]
    }
   ],
   "source": [
    "print(data[:100])"
   ]
  },
  {
   "cell_type": "code",
   "execution_count": 11,
   "metadata": {},
   "outputs": [],
   "source": [
    "row_p = re.compile(\"\\[(.*?), (.*?), (\\d+)\")"
   ]
  },
  {
   "cell_type": "code",
   "execution_count": 13,
   "metadata": {},
   "outputs": [],
   "source": [
    "long, short, dates = zip(* row_p.findall(data) )"
   ]
  },
  {
   "cell_type": "code",
   "execution_count": 36,
   "metadata": {},
   "outputs": [],
   "source": [
    "stuff = {x : [] for x in set(short)}"
   ]
  },
  {
   "cell_type": "code",
   "execution_count": 37,
   "metadata": {},
   "outputs": [],
   "source": [
    "for a, b in zip(short, dates):\n",
    "    stuff[a].append(int(b))"
   ]
  },
  {
   "cell_type": "code",
   "execution_count": 38,
   "metadata": {},
   "outputs": [],
   "source": [
    "for a in stuff.keys():\n",
    "    stuff[a] = sorted(stuff[a])"
   ]
  },
  {
   "cell_type": "code",
   "execution_count": 42,
   "metadata": {},
   "outputs": [],
   "source": [
    "for a in sorted(stuff.keys()):\n",
    "    continue\n",
    "    print( a, stuff[a][0], stuff[a][-1])\n",
    "    "
   ]
  },
  {
   "cell_type": "code",
   "execution_count": 67,
   "metadata": {},
   "outputs": [],
   "source": [
    "import pandas as pd\n",
    "import pickle\n",
    "\n",
    "from datetime import timedelta, date\n",
    "import time\n",
    "\n",
    "\n",
    "start_day= date(2010, 1, 11)"
   ]
  },
  {
   "cell_type": "code",
   "execution_count": 137,
   "metadata": {},
   "outputs": [],
   "source": [
    "fn = 'arx_math_2010-06-18_2010-12-31.pkl'\n",
    "fn = 'arx_math_2011-01-01_2011-12-31.pkl'\n",
    "with open( fn,'rb') as fp:\n",
    "    output = pickle.load(fp)"
   ]
  },
  {
   "cell_type": "markdown",
   "metadata": {},
   "source": [
    "Note how the not operator is ~ and non **not**"
   ]
  },
  {
   "cell_type": "code",
   "execution_count": 138,
   "metadata": {},
   "outputs": [],
   "source": [
    "df = pd.DataFrame(output)\n",
    "yy = '2011'\n",
    "dfc = df[ df['created'].str.contains(yy) ]\n",
    "dfu = df[ ~df['created'].str.contains(yy) ]"
   ]
  },
  {
   "cell_type": "code",
   "execution_count": 56,
   "metadata": {},
   "outputs": [],
   "source": [
    "math_cat = [ x for x in set( ' '.join(list(df['categories'])).split(' ') ) if 'math' in x]"
   ]
  },
  {
   "cell_type": "code",
   "execution_count": 153,
   "metadata": {},
   "outputs": [
    {
     "data": {
      "text/plain": [
       "11843"
      ]
     },
     "execution_count": 153,
     "metadata": {},
     "output_type": "execute_result"
    }
   ],
   "source": [
    "len(dfc)"
   ]
  },
  {
   "cell_type": "code",
   "execution_count": 149,
   "metadata": {},
   "outputs": [],
   "source": [
    "def date2doy(x, yy=2010):\n",
    "    if x == '' : return None\n",
    "    yy,mm,dd = [int(y) for y in x.split('-')]\n",
    "    return date(yy,mm,dd) - date(yy, 1, 1)\n",
    "\n",
    "C = [date2doy(x, yy=int(yy)) for x in dfc['created'] ]\n",
    "U = [date2doy(x, yy=int(yy)) for x in dfu['updated'] ]\n",
    "U = [x for x in U if x]"
   ]
  },
  {
   "cell_type": "code",
   "execution_count": 150,
   "metadata": {},
   "outputs": [],
   "source": [
    "doyc = [x.days for x in C ]\n",
    "doyu = [x.days for x in U ]"
   ]
  },
  {
   "cell_type": "code",
   "execution_count": 154,
   "metadata": {},
   "outputs": [
    {
     "data": {
      "text/plain": [
       "[(51, 74),\n",
       " (44, 67),\n",
       " (128, 62),\n",
       " (130, 59),\n",
       " (38, 58),\n",
       " (59, 58),\n",
       " (58, 57),\n",
       " (86, 57),\n",
       " (117, 57),\n",
       " (60, 55)]"
      ]
     },
     "execution_count": 154,
     "metadata": {},
     "output_type": "execute_result"
    }
   ],
   "source": [
    "from collections import Counter\n",
    "freqs = Counter(doyc)\n",
    "freqs.most_common(10)"
   ]
  },
  {
   "cell_type": "code",
   "execution_count": 82,
   "metadata": {},
   "outputs": [],
   "source": [
    "import matplotlib.pyplot as plt\n",
    "import numpy as np "
   ]
  },
  {
   "cell_type": "code",
   "execution_count": 93,
   "metadata": {},
   "outputs": [
    {
     "data": {
      "text/plain": [
       "[<matplotlib.lines.Line2D at 0x7f2e343d0358>]"
      ]
     },
     "execution_count": 93,
     "metadata": {},
     "output_type": "execute_result"
    },
    {
     "data": {
      "image/png": "[encoded data removed]",
      "text/plain": [
       "<Figure size 432x288 with 1 Axes>"
      ]
     },
     "metadata": {},
     "output_type": "display_data"
    }
   ],
   "source": [
    "xs,ys = zip(*freqs.most_common(100))\n",
    "plt.plot(xs, ys,'r.')"
   ]
  },
  {
   "cell_type": "code",
   "execution_count": 123,
   "metadata": {},
   "outputs": [
    {
     "data": {
      "text/plain": [
       "Text(0.5,1,'Arxiv Submissions 2010')"
      ]
     },
     "execution_count": 123,
     "metadata": {},
     "output_type": "execute_result"
    },
    {
     "data": {
      "image/png": "[encoded data removed]",
      "text/plain": [
       "<Figure size 432x288 with 1 Axes>"
      ]
     },
     "metadata": {},
     "output_type": "display_data"
    }
   ],
   "source": [
    "plt.hist(doyu,bins=26, alpha=1., label='updated')\n",
    "plt.hist(doy,bins=26, alpha=0.5, label='created')\n",
    "plt.legend(loc='upper left')\n",
    "plt.title('Arxiv Submissions 2010')\n"
   ]
  },
  {
   "cell_type": "code",
   "execution_count": 155,
   "metadata": {},
   "outputs": [
    {
     "data": {
      "text/plain": [
       "Text(0.5,1,'Arxiv Submissions 2011')"
      ]
     },
     "execution_count": 155,
     "metadata": {},
     "output_type": "execute_result"
    },
    {
     "data": {
      "image/png": "[encoded data removed]",
      "text/plain": [
       "<Figure size 432x288 with 1 Axes>"
      ]
     },
     "metadata": {},
     "output_type": "display_data"
    }
   ],
   "source": [
    "plt.hist(doyu,bins=26, alpha=1., label='updated')\n",
    "plt.hist(doyc,bins=26, alpha=0.5, label='created')\n",
    "plt.legend(loc='upper left')\n",
    "plt.title('Arxiv Submissions ' + yy)"
   ]
  },
  {
   "cell_type": "code",
   "execution_count": null,
   "metadata": {},
   "outputs": [],
   "source": []
  }
 ],
 "metadata": {
  "kernelspec": {
   "display_name": "Python 3",
   "language": "python",
   "name": "python3"
  },
  "language_info": {
   "codemirror_mode": {
    "name": "ipython",
    "version": 3
   },
   "file_extension": ".py",
   "mimetype": "text/x-python",
   "name": "python",
   "nbconvert_exporter": "python",
   "pygments_lexer": "ipython3",
   "version": "3.6.5"
  }
 },
 "nbformat": 4,
 "nbformat_minor": 2
}
